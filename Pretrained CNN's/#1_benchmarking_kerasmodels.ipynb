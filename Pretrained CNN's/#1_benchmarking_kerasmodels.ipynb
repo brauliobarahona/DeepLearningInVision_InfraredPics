{
 "cells": [
  {
   "cell_type": "markdown",
   "id": "991dff14",
   "metadata": {},
   "source": [
    "# Environment preparation and dataset split"
   ]
  },
  {
   "cell_type": "code",
   "execution_count": 4,
   "id": "6896c78b",
   "metadata": {},
   "outputs": [],
   "source": [
    "#!pip install tensorflow_datasets\n",
    "#!pip install inspect\n",
    "#!pip install tqdm\n",
    "#!pip install tensorflow\n",
    "import tensorflow as tf\n",
    "import tensorflow_datasets as tfds\n",
    "import pandas as pd\n",
    "import matplotlib.pyplot as plt\n",
    "import inspect\n",
    "from tqdm import tqdm\n",
    "import os\n",
    "import numpy as np\n",
    "import shutil\n",
    "import pandas as pd\n",
    "import datetime\n"
   ]
  },
  {
   "cell_type": "markdown",
   "id": "dfc13bf2",
   "metadata": {},
   "source": [
    "Split data into train, val and test set"
   ]
  },
  {
   "cell_type": "code",
   "execution_count": 16,
   "id": "cb3484ec",
   "metadata": {},
   "outputs": [
    {
     "name": "stdout",
     "output_type": "stream",
     "text": [
      "########### Train Test Val Script started ###########\n",
      "$$$$$$$ Class Name No Defect $$$$$$$\n",
      "Total images: 1840\n",
      "Training: 1472\n",
      "Validation: 184\n",
      "Testing: 184\n",
      "$$$$$$$ Class Name Defect $$$$$$$\n",
      "Total images: 1177\n",
      "Training: 941\n",
      "Validation: 118\n",
      "Testing: 118\n",
      "########### Train Test Val Script Ended ###########\n"
     ]
    }
   ],
   "source": [
    "now = \"/\" + datetime.datetime.now().strftime(\"%Y%m%d_%H%M%S\")\n",
    "def train_test_split():\n",
    "    print(\"########### Train Test Val Script started ###########\")\n",
    "    #data_csv = pd.read_csv(\"DataSet_Final.csv\") ##Use if you have classes saved in any .csv file\n",
    "\n",
    "    root_dir = 'C:/Users/matth/switchdrive/HSLU Master/3. sem/Deep Learning in Vision/Project/original_dataset_2'\n",
    "    classes_dir = ['No Defect', 'Defect']\n",
    "\n",
    "    processed_dir = \"C:/Users/matth/switchdrive/HSLU Master/3. sem/Deep Learning in Vision/Project/original_dataset_2/Data_not_split\"\n",
    "\n",
    "    val_ratio = 0.10\n",
    "    test_ratio = 0.10\n",
    "    os.makedirs(root_dir + now)\n",
    "\n",
    "    for cls in classes_dir:\n",
    "        # Creating partitions of the data after shuffeling\n",
    "        print(\"$$$$$$$ Class Name \" + cls + \" $$$$$$$\")\n",
    "        src = processed_dir +\"/\" + cls  # Folder to copy images from\n",
    "\n",
    "        allFileNames = os.listdir(src)\n",
    "        np.random.shuffle(allFileNames)\n",
    "        train_FileNames, val_FileNames, test_FileNames = np.split(np.array(allFileNames),\n",
    "                                                                  [int(len(allFileNames) * (1 - (val_ratio + test_ratio))),\n",
    "                                                                   int(len(allFileNames) * (1 - val_ratio)),\n",
    "                                                                   ])\n",
    "\n",
    "        train_FileNames = [src + '/' + name for name in train_FileNames.tolist()]\n",
    "        val_FileNames = [src + '/' + name for name in val_FileNames.tolist()]\n",
    "        test_FileNames = [src + '/' + name for name in test_FileNames.tolist()]\n",
    "\n",
    "        print('Total images: '+ str(len(allFileNames)))\n",
    "        print('Training: '+ str(len(train_FileNames)))\n",
    "        print('Validation: '+  str(len(val_FileNames)))\n",
    "        print('Testing: '+ str(len(test_FileNames)))\n",
    "\n",
    "        # # Creating Train / Val / Test folders (One time use)\n",
    "        os.makedirs(root_dir + now +'/train/' + cls)\n",
    "        os.makedirs(root_dir + now +'/val/' + cls)\n",
    "        os.makedirs(root_dir + now +'/test/' + cls)\n",
    "\n",
    "        # Copy-pasting images\n",
    "        for name in train_FileNames:\n",
    "            shutil.copy(name, root_dir + now +'/train/' + cls)\n",
    "\n",
    "        for name in val_FileNames:\n",
    "            shutil.copy(name, root_dir + now +'/val/' + cls)\n",
    "\n",
    "        for name in test_FileNames:\n",
    "            shutil.copy(name, root_dir + now +'/test/' + cls)\n",
    "\n",
    "    print(\"########### Train Test Val Script Ended ###########\")\n",
    "\n",
    "train_test_split()"
   ]
  },
  {
   "cell_type": "markdown",
   "id": "e21c875a",
   "metadata": {
    "colab_type": "text",
    "id": "9322su6vGhJJ"
   },
   "source": [
    "# Load all CNN's and compare them"
   ]
  },
  {
   "cell_type": "code",
   "execution_count": 17,
   "id": "7af897eb",
   "metadata": {},
   "outputs": [
    {
     "data": {
      "text/plain": [
       "<function keras.applications.mobilenet_v2.MobileNetV2(input_shape=None, alpha=1.0, include_top=True, weights='imagenet', input_tensor=None, pooling=None, classes=1000, classifier_activation='softmax', **kwargs)>"
      ]
     },
     "execution_count": 17,
     "metadata": {},
     "output_type": "execute_result"
    }
   ],
   "source": [
    "# List all available models\n",
    "\"\"\" Notes:\n",
    "  See for example:\n",
    "    https://arxiv.org/pdf/1810.00736.pdf\n",
    "    https://colab.research.google.com/github/stephenleo/keras-model-selection/blob/main/keras_model_selection.ipynb#scrollTo=cfO_kZWhy6E3\n",
    "    https://gist.github.com/stephenleo/8874556c221fa7ed5839c86aaecaa495\n",
    "    https://www.kaggle.com/kriyeng/evaluate-26-pretrained-models-to-split-the-problem\n",
    "    https://github.com/cgnorthcutt/benchmarking-keras-pytorch\n",
    "\n",
    "\"\"\"\n",
    "model_dictionary = {m[0]:m[1] for m in inspect.getmembers(tf.keras.applications, inspect.isfunction)}\n",
    "model_dictionary[\"MobileNetV2\"]"
   ]
  },
  {
   "cell_type": "markdown",
   "id": "4bd79982",
   "metadata": {},
   "source": []
  },
  {
   "cell_type": "markdown",
   "id": "00d33ed2",
   "metadata": {
    "colab": {},
    "colab_type": "code",
    "id": "UuJV4JBKGhJO"
   },
   "source": [
    "load the training and validation data from directory and for both needed formats, i.e. 224,224,3 or 331,331,3"
   ]
  },
  {
   "cell_type": "code",
   "execution_count": 18,
   "id": "a317c835",
   "metadata": {
    "colab": {},
    "colab_type": "code",
    "id": "JFdkIokMGhJT",
    "outputId": "63e7d032-4083-4fe0-d970-c10bf0c39a94"
   },
   "outputs": [
    {
     "name": "stdout",
     "output_type": "stream",
     "text": [
      "Found 2413 files belonging to 2 classes.\n",
      "Found 2413 files belonging to 2 classes.\n",
      "Found 302 files belonging to 2 classes.\n",
      "Found 302 files belonging to 2 classes.\n"
     ]
    }
   ],
   "source": [
    "PATH = \"C:/Users/matth/switchdrive/HSLU Master/3. sem/Deep Learning in Vision/Project/original_dataset_2\" + now + \"/\"\n",
    "train_dir = os.path.join(PATH, 'train')\n",
    "validation_dir = os.path.join(PATH, 'val')\n",
    "test_dir = os.path.join(PATH, 'test')\n",
    "\n",
    "train224 = tf.keras.utils.image_dataset_from_directory(\n",
    "    train_dir\n",
    "    , labels=\"inferred\", label_mode = \"categorical\"\n",
    "    , class_names = [\"Defect\",\"No Defect\"], color_mode = \"rgb\"\n",
    "    , image_size = (224,224))\n",
    "\n",
    "train331 = tf.keras.utils.image_dataset_from_directory(\n",
    "    traindir\n",
    "    , labels=\"inferred\", label_mode = \"categorical\"\n",
    "    , class_names = [\"Defect\",\"No Defect\"], color_mode = \"rgb\"\n",
    "    , image_size = (331,331))\n",
    "\n",
    "val331 = tf.keras.utils.image_dataset_from_directory(\n",
    "    validation_dir\n",
    "    , labels=\"inferred\", label_mode = \"categorical\"\n",
    "    , class_names = [\"Defect\",\"No Defect\"], color_mode = \"rgb\"\n",
    "    , image_size = (331,331))\n",
    "\n",
    "val224 = tf.keras.utils.image_dataset_from_directory(\n",
    "    validation_dir\n",
    "    , labels=\"inferred\", label_mode = \"categorical\"\n",
    "    , class_names = [\"Defect\",\"No Defect\"], color_mode = \"rgb\"\n",
    "    , image_size = (224,224))\n"
   ]
  },
  {
   "cell_type": "code",
   "execution_count": null,
   "id": "56273713",
   "metadata": {},
   "outputs": [],
   "source": [
    "!pip uninstall h5py\n",
    "!pip install h5py<'3.0.0'"
   ]
  },
  {
   "cell_type": "markdown",
   "id": "7554ba5d",
   "metadata": {},
   "source": [
    "Train all CNN, only one dense layer with softmax activation function is trained"
   ]
  },
  {
   "cell_type": "code",
   "execution_count": 19,
   "id": "bf90943a",
   "metadata": {
    "scrolled": true
   },
   "outputs": [
    {
     "name": "stderr",
     "output_type": "stream",
     "text": [
      "\r\n",
      "  0%|                                                                                           | 0/28 [00:00<?, ?it/s]"
     ]
    },
    {
     "name": "stdout",
     "output_type": "stream",
     "text": [
      "Epoch 1/3\n",
      "16/16 [==============================] - 101s 5s/step - loss: 10.3066 - accuracy: 0.6309 - val_loss: 2.3422 - val_accuracy: 0.6060\n",
      "Epoch 2/3\n",
      "16/16 [==============================] - 80s 5s/step - loss: 2.7224 - accuracy: 0.6289 - val_loss: 1.8697 - val_accuracy: 0.6755\n",
      "Epoch 3/3\n",
      "16/16 [==============================] - 80s 5s/step - loss: 2.3175 - accuracy: 0.6602 - val_loss: 1.3017 - val_accuracy: 0.7086\n"
     ]
    },
    {
     "name": "stderr",
     "output_type": "stream",
     "text": [
      "\r\n",
      "  4%|██▊                                                                             | 1/28 [04:29<2:01:25, 269.84s/it]"
     ]
    },
    {
     "name": "stdout",
     "output_type": "stream",
     "text": [
      "Epoch 1/3\n",
      "16/16 [==============================] - 127s 7s/step - loss: 8.8107 - accuracy: 0.5508 - val_loss: 1.0146 - val_accuracy: 0.7152\n",
      "Epoch 2/3\n",
      "16/16 [==============================] - 87s 6s/step - loss: 4.0079 - accuracy: 0.6328 - val_loss: 3.8739 - val_accuracy: 0.6821\n",
      "Epoch 3/3\n",
      "16/16 [==============================] - 86s 6s/step - loss: 4.9593 - accuracy: 0.6270 - val_loss: 1.9307 - val_accuracy: 0.6656\n"
     ]
    },
    {
     "name": "stderr",
     "output_type": "stream",
     "text": [
      "\r\n",
      "  7%|█████▋                                                                          | 2/28 [09:43<2:08:01, 295.44s/it]"
     ]
    },
    {
     "name": "stdout",
     "output_type": "stream",
     "text": [
      "Epoch 1/3\n",
      "16/16 [==============================] - 119s 7s/step - loss: 3.7274 - accuracy: 0.5312 - val_loss: 0.8728 - val_accuracy: 0.7086\n",
      "Epoch 2/3\n",
      "16/16 [==============================] - 103s 7s/step - loss: 2.1792 - accuracy: 0.6289 - val_loss: 2.4624 - val_accuracy: 0.5430\n",
      "Epoch 3/3\n",
      "16/16 [==============================] - 105s 7s/step - loss: 1.6681 - accuracy: 0.6348 - val_loss: 1.8800 - val_accuracy: 0.6192\n"
     ]
    },
    {
     "name": "stderr",
     "output_type": "stream",
     "text": [
      "\r\n",
      " 11%|████████▌                                                                       | 3/28 [15:19<2:10:50, 314.04s/it]"
     ]
    },
    {
     "name": "stdout",
     "output_type": "stream",
     "text": [
      "Epoch 1/3\n",
      "16/16 [==============================] - 43s 2s/step - loss: 0.6245 - accuracy: 0.6660 - val_loss: 0.5346 - val_accuracy: 0.7881\n",
      "Epoch 2/3\n",
      "16/16 [==============================] - 35s 2s/step - loss: 0.4948 - accuracy: 0.7969 - val_loss: 0.4472 - val_accuracy: 0.8411\n",
      "Epoch 3/3\n",
      "16/16 [==============================] - 35s 2s/step - loss: 0.4599 - accuracy: 0.8203 - val_loss: 0.4096 - val_accuracy: 0.8377\n"
     ]
    },
    {
     "name": "stderr",
     "output_type": "stream",
     "text": [
      "\r\n",
      " 14%|███████████▍                                                                    | 4/28 [17:16<1:34:28, 236.17s/it]"
     ]
    },
    {
     "name": "stdout",
     "output_type": "stream",
     "text": [
      "Epoch 1/3\n",
      "16/16 [==============================] - 60s 3s/step - loss: 0.5622 - accuracy: 0.7480 - val_loss: 0.4500 - val_accuracy: 0.8444\n",
      "Epoch 2/3\n",
      "16/16 [==============================] - 49s 3s/step - loss: 0.4720 - accuracy: 0.8047 - val_loss: 0.3974 - val_accuracy: 0.8510\n",
      "Epoch 3/3\n",
      "16/16 [==============================] - 48s 3s/step - loss: 0.4095 - accuracy: 0.8281 - val_loss: 0.3715 - val_accuracy: 0.8642\n"
     ]
    },
    {
     "name": "stderr",
     "output_type": "stream",
     "text": [
      "\r\n",
      " 18%|██████████████▎                                                                 | 5/28 [19:56<1:20:00, 208.70s/it]"
     ]
    },
    {
     "name": "stdout",
     "output_type": "stream",
     "text": [
      "Epoch 1/3\n",
      "16/16 [==============================] - 63s 3s/step - loss: 0.5882 - accuracy: 0.6875 - val_loss: 0.4853 - val_accuracy: 0.7815\n",
      "Epoch 2/3\n",
      "16/16 [==============================] - 50s 3s/step - loss: 0.4868 - accuracy: 0.7832 - val_loss: 0.4307 - val_accuracy: 0.8179\n",
      "Epoch 3/3\n",
      "16/16 [==============================] - 51s 3s/step - loss: 0.4284 - accuracy: 0.8086 - val_loss: 0.3969 - val_accuracy: 0.8510\n"
     ]
    },
    {
     "name": "stderr",
     "output_type": "stream",
     "text": [
      "\r\n",
      " 21%|█████████████████▏                                                              | 6/28 [22:43<1:11:21, 194.60s/it]"
     ]
    },
    {
     "name": "stdout",
     "output_type": "stream",
     "text": [
      "Epoch 1/3\n",
      "16/16 [==============================] - 81s 4s/step - loss: 0.6060 - accuracy: 0.6777 - val_loss: 0.4882 - val_accuracy: 0.7748\n",
      "Epoch 2/3\n",
      "16/16 [==============================] - 68s 4s/step - loss: 0.4576 - accuracy: 0.8301 - val_loss: 0.4063 - val_accuracy: 0.8510\n",
      "Epoch 3/3\n",
      "16/16 [==============================] - 67s 4s/step - loss: 0.3976 - accuracy: 0.8535 - val_loss: 0.3919 - val_accuracy: 0.8311\n"
     ]
    },
    {
     "name": "stderr",
     "output_type": "stream",
     "text": [
      "\r\n",
      " 25%|████████████████████                                                            | 7/28 [26:23<1:11:02, 202.97s/it]"
     ]
    },
    {
     "name": "stdout",
     "output_type": "stream",
     "text": [
      "Epoch 1/3\n",
      "16/16 [==============================] - 110s 6s/step - loss: 0.5990 - accuracy: 0.6699 - val_loss: 0.5138 - val_accuracy: 0.8113\n",
      "Epoch 2/3\n",
      "16/16 [==============================] - 92s 6s/step - loss: 0.5037 - accuracy: 0.7832 - val_loss: 0.4725 - val_accuracy: 0.8079\n",
      "Epoch 3/3\n",
      "16/16 [==============================] - 85s 5s/step - loss: 0.4678 - accuracy: 0.7910 - val_loss: 0.4230 - val_accuracy: 0.8311\n"
     ]
    },
    {
     "name": "stderr",
     "output_type": "stream",
     "text": [
      "\r\n",
      " 29%|██████████████████████▊                                                         | 8/28 [31:16<1:17:14, 231.73s/it]"
     ]
    },
    {
     "name": "stdout",
     "output_type": "stream",
     "text": [
      "Epoch 1/3\n",
      "16/16 [==============================] - 146s 9s/step - loss: 0.5934 - accuracy: 0.6602 - val_loss: 0.5208 - val_accuracy: 0.7881\n",
      "Epoch 2/3\n",
      "16/16 [==============================] - 134s 9s/step - loss: 0.5364 - accuracy: 0.7539 - val_loss: 0.4616 - val_accuracy: 0.8411\n",
      "Epoch 3/3\n",
      "16/16 [==============================] - 136s 9s/step - loss: 0.4912 - accuracy: 0.7910 - val_loss: 0.4359 - val_accuracy: 0.8543\n"
     ]
    },
    {
     "name": "stderr",
     "output_type": "stream",
     "text": [
      "\r\n",
      " 32%|█████████████████████████▋                                                      | 9/28 [38:19<1:32:13, 291.25s/it]"
     ]
    },
    {
     "name": "stdout",
     "output_type": "stream",
     "text": [
      "Epoch 1/3\n",
      "16/16 [==============================] - 207s 12s/step - loss: 0.6597 - accuracy: 0.5996 - val_loss: 0.5938 - val_accuracy: 0.6722\n",
      "Epoch 2/3\n",
      "16/16 [==============================] - 186s 12s/step - loss: 0.5826 - accuracy: 0.6914 - val_loss: 0.5579 - val_accuracy: 0.7682\n",
      "Epoch 3/3\n",
      "16/16 [==============================] - 189s 12s/step - loss: 0.5483 - accuracy: 0.7539 - val_loss: 0.5078 - val_accuracy: 0.8146\n"
     ]
    },
    {
     "name": "stderr",
     "output_type": "stream",
     "text": [
      "\r\n",
      " 36%|████████████████████████████▏                                                  | 10/28 [48:09<1:55:07, 383.74s/it]"
     ]
    },
    {
     "name": "stdout",
     "output_type": "stream",
     "text": [
      "Epoch 1/3\n",
      "16/16 [==============================] - 285s 17s/step - loss: 0.6253 - accuracy: 0.6270 - val_loss: 0.5304 - val_accuracy: 0.7252\n",
      "Epoch 2/3\n",
      "16/16 [==============================] - 256s 16s/step - loss: 0.5600 - accuracy: 0.7031 - val_loss: 0.4892 - val_accuracy: 0.8013\n",
      "Epoch 3/3\n",
      "16/16 [==============================] - 239s 15s/step - loss: 0.4957 - accuracy: 0.7578 - val_loss: 0.4454 - val_accuracy: 0.8212\n"
     ]
    },
    {
     "name": "stderr",
     "output_type": "stream",
     "text": [
      "\r\n",
      " 39%|██████████████████████████████▎                                              | 11/28 [1:01:20<2:24:00, 508.29s/it]"
     ]
    },
    {
     "name": "stdout",
     "output_type": "stream",
     "text": [
      "Epoch 1/3\n",
      "16/16 [==============================] - 228s 14s/step - loss: 1359.4968 - accuracy: 0.5234 - val_loss: 219.1194 - val_accuracy: 0.6093\n",
      "Epoch 2/3\n",
      "16/16 [==============================] - 205s 13s/step - loss: 817.6087 - accuracy: 0.5254 - val_loss: 527.3320 - val_accuracy: 0.6093\n",
      "Epoch 3/3\n",
      "16/16 [==============================] - 214s 14s/step - loss: 742.8871 - accuracy: 0.5508 - val_loss: 80.1405 - val_accuracy: 0.6225\n"
     ]
    },
    {
     "name": "stderr",
     "output_type": "stream",
     "text": [
      "\r\n",
      " 43%|█████████████████████████████████                                            | 12/28 [1:12:16<2:27:30, 553.16s/it]"
     ]
    },
    {
     "name": "stdout",
     "output_type": "stream",
     "text": [
      "Epoch 1/3\n",
      "16/16 [==============================] - 117s 7s/step - loss: 5.1908 - accuracy: 0.5996 - val_loss: 4.2728 - val_accuracy: 0.6093\n",
      "Epoch 2/3\n",
      "16/16 [==============================] - 107s 7s/step - loss: 2.5744 - accuracy: 0.6699 - val_loss: 3.7741 - val_accuracy: 0.6325\n",
      "Epoch 3/3\n",
      "16/16 [==============================] - 100s 6s/step - loss: 2.6586 - accuracy: 0.6797 - val_loss: 1.0819 - val_accuracy: 0.7748\n"
     ]
    },
    {
     "name": "stderr",
     "output_type": "stream",
     "text": [
      "\r\n",
      " 46%|███████████████████████████████████▊                                         | 13/28 [1:17:43<2:01:11, 484.77s/it]"
     ]
    },
    {
     "name": "stdout",
     "output_type": "stream",
     "text": [
      "Epoch 1/3\n",
      "16/16 [==============================] - 23s 1s/step - loss: 0.6149 - accuracy: 0.6621 - val_loss: 0.5257 - val_accuracy: 0.7219\n",
      "Epoch 2/3\n",
      "16/16 [==============================] - 21s 1s/step - loss: 0.5369 - accuracy: 0.7090 - val_loss: 0.4714 - val_accuracy: 0.7715\n",
      "Epoch 3/3\n",
      "16/16 [==============================] - 22s 1s/step - loss: 0.4989 - accuracy: 0.7324 - val_loss: 0.4412 - val_accuracy: 0.7881\n"
     ]
    },
    {
     "name": "stderr",
     "output_type": "stream",
     "text": [
      "\r\n",
      " 50%|██████████████████████████████████████▌                                      | 14/28 [1:18:50<1:23:38, 358.50s/it]"
     ]
    },
    {
     "name": "stdout",
     "output_type": "stream",
     "text": [
      "Epoch 1/3\n",
      "16/16 [==============================] - 25s 1s/step - loss: 0.6432 - accuracy: 0.6719 - val_loss: 0.5176 - val_accuracy: 0.7119\n",
      "Epoch 2/3\n",
      "16/16 [==============================] - 19s 1s/step - loss: 0.4954 - accuracy: 0.7480 - val_loss: 0.4606 - val_accuracy: 0.7517\n",
      "Epoch 3/3\n",
      "16/16 [==============================] - 19s 1s/step - loss: 0.4557 - accuracy: 0.7754 - val_loss: 0.3934 - val_accuracy: 0.8311\n"
     ]
    },
    {
     "name": "stderr",
     "output_type": "stream",
     "text": [
      "\r\n",
      " 54%|██████████████████████████████████████████▎                                    | 15/28 [1:19:55<58:31, 270.11s/it]"
     ]
    },
    {
     "name": "stdout",
     "output_type": "stream",
     "text": [
      "Epoch 1/3\n",
      "16/16 [==============================] - 24s 1s/step - loss: 0.5392 - accuracy: 0.7344 - val_loss: 0.4166 - val_accuracy: 0.7980\n",
      "Epoch 2/3\n",
      "16/16 [==============================] - 19s 1s/step - loss: 0.3979 - accuracy: 0.8242 - val_loss: 0.3391 - val_accuracy: 0.8576\n",
      "Epoch 3/3\n",
      "16/16 [==============================] - 19s 1s/step - loss: 0.3273 - accuracy: 0.8691 - val_loss: 0.2981 - val_accuracy: 0.8940\n"
     ]
    },
    {
     "name": "stderr",
     "output_type": "stream",
     "text": [
      "\r\n",
      " 57%|█████████████████████████████████████████████▏                                 | 16/28 [1:20:59<41:34, 207.88s/it]"
     ]
    },
    {
     "name": "stdout",
     "output_type": "stream",
     "text": [
      "Epoch 1/3\n",
      "16/16 [==============================] - 14s 630ms/step - loss: 0.5412 - accuracy: 0.7266 - val_loss: 0.4321 - val_accuracy: 0.8278\n",
      "Epoch 2/3\n",
      "16/16 [==============================] - 9s 586ms/step - loss: 0.4471 - accuracy: 0.7910 - val_loss: 0.3671 - val_accuracy: 0.8642\n",
      "Epoch 3/3\n",
      "16/16 [==============================] - 9s 589ms/step - loss: 0.3722 - accuracy: 0.8535 - val_loss: 0.3492 - val_accuracy: 0.8609\n"
     ]
    },
    {
     "name": "stderr",
     "output_type": "stream",
     "text": [
      "\r\n",
      " 61%|███████████████████████████████████████████████▉                               | 17/28 [1:21:32<28:30, 155.46s/it]"
     ]
    },
    {
     "name": "stdout",
     "output_type": "stream",
     "text": [
      "Epoch 1/3\n",
      "16/16 [==============================] - 533s 33s/step - loss: 0.7741 - accuracy: 0.5723 - val_loss: 0.5447 - val_accuracy: 0.6954\n",
      "Epoch 2/3\n",
      "16/16 [==============================] - 499s 32s/step - loss: 0.5589 - accuracy: 0.6875 - val_loss: 0.5174 - val_accuracy: 0.6921\n",
      "Epoch 3/3\n",
      "16/16 [==============================] - 502s 32s/step - loss: 0.5422 - accuracy: 0.6973 - val_loss: 0.4678 - val_accuracy: 0.7517\n"
     ]
    },
    {
     "name": "stderr",
     "output_type": "stream",
     "text": [
      "\r\n",
      " 64%|█████████████████████████████████████████████████▌                           | 18/28 [1:47:17<1:35:30, 573.02s/it]"
     ]
    },
    {
     "name": "stdout",
     "output_type": "stream",
     "text": [
      "Epoch 1/3\n",
      "16/16 [==============================] - 52s 2s/step - loss: 1.0526 - accuracy: 0.5449 - val_loss: 0.6062 - val_accuracy: 0.6159\n",
      "Epoch 2/3\n",
      "16/16 [==============================] - 36s 2s/step - loss: 0.6490 - accuracy: 0.6406 - val_loss: 0.8469 - val_accuracy: 0.5993\n",
      "Epoch 3/3\n",
      "16/16 [==============================] - 35s 2s/step - loss: 0.6252 - accuracy: 0.6582 - val_loss: 0.5400 - val_accuracy: 0.7219\n"
     ]
    },
    {
     "name": "stderr",
     "output_type": "stream",
     "text": [
      "\r\n",
      " 68%|████████████████████████████████████████████████████▎                        | 19/28 [1:49:27<1:05:58, 439.84s/it]"
     ]
    },
    {
     "name": "stdout",
     "output_type": "stream",
     "text": [
      "Epoch 1/3\n",
      "16/16 [==============================] - 275s 17s/step - loss: 0.5581 - accuracy: 0.7578 - val_loss: 0.4157 - val_accuracy: 0.8278\n",
      "Epoch 2/3\n",
      "16/16 [==============================] - 262s 17s/step - loss: 0.4349 - accuracy: 0.8008 - val_loss: 0.3431 - val_accuracy: 0.8278\n",
      "Epoch 3/3\n",
      "16/16 [==============================] - 263s 17s/step - loss: 0.3364 - accuracy: 0.8574 - val_loss: 0.2952 - val_accuracy: 0.8609\n"
     ]
    },
    {
     "name": "stderr",
     "output_type": "stream",
     "text": [
      "\r\n",
      " 71%|███████████████████████████████████████████████████████                      | 20/28 [2:02:51<1:13:13, 549.14s/it]"
     ]
    },
    {
     "name": "stdout",
     "output_type": "stream",
     "text": [
      "Epoch 1/3\n",
      "16/16 [==============================] - 229s 14s/step - loss: 39.1765 - accuracy: 0.4766 - val_loss: 6.4934 - val_accuracy: 0.5497\n",
      "Epoch 2/3\n",
      "16/16 [==============================] - 217s 14s/step - loss: 18.6788 - accuracy: 0.5469 - val_loss: 39.0619 - val_accuracy: 0.6093\n",
      "Epoch 3/3\n",
      "16/16 [==============================] - 216s 14s/step - loss: 19.0970 - accuracy: 0.5723 - val_loss: 38.1111 - val_accuracy: 0.3907\n"
     ]
    },
    {
     "name": "stderr",
     "output_type": "stream",
     "text": [
      "\r\n",
      " 75%|█████████████████████████████████████████████████████████▊                   | 21/28 [2:13:56<1:08:08, 584.09s/it]"
     ]
    },
    {
     "name": "stdout",
     "output_type": "stream",
     "text": [
      "Epoch 1/3\n",
      "16/16 [==============================] - 330s 20s/step - loss: 0.5780 - accuracy: 0.6875 - val_loss: 0.3619 - val_accuracy: 0.8742\n",
      "Epoch 2/3\n",
      "16/16 [==============================] - 303s 19s/step - loss: 0.3900 - accuracy: 0.8281 - val_loss: 0.3231 - val_accuracy: 0.8940\n",
      "Epoch 3/3\n",
      "16/16 [==============================] - 308s 20s/step - loss: 0.2970 - accuracy: 0.8809 - val_loss: 0.2877 - val_accuracy: 0.9073\n"
     ]
    },
    {
     "name": "stderr",
     "output_type": "stream",
     "text": [
      "\r\n",
      " 79%|████████████████████████████████████████████████████████████▌                | 22/28 [2:29:42<1:09:16, 692.69s/it]"
     ]
    },
    {
     "name": "stdout",
     "output_type": "stream",
     "text": [
      "Epoch 1/3\n",
      "16/16 [==============================] - 292s 18s/step - loss: 106.8740 - accuracy: 0.5723 - val_loss: 128.6174 - val_accuracy: 0.6093\n",
      "Epoch 2/3\n",
      "16/16 [==============================] - 273s 17s/step - loss: 79.7602 - accuracy: 0.5332 - val_loss: 139.3767 - val_accuracy: 0.3907\n",
      "Epoch 3/3\n",
      "16/16 [==============================] - 273s 18s/step - loss: 71.0595 - accuracy: 0.5547 - val_loss: 4.4545 - val_accuracy: 0.7351\n"
     ]
    },
    {
     "name": "stderr",
     "output_type": "stream",
     "text": [
      "\r\n",
      " 82%|███████████████████████████████████████████████████████████████▎             | 23/28 [2:43:46<1:01:30, 738.11s/it]"
     ]
    },
    {
     "name": "stdout",
     "output_type": "stream",
     "text": [
      "Epoch 1/3\n",
      "16/16 [==============================] - 104s 6s/step - loss: 0.5615 - accuracy: 0.7402 - val_loss: 0.4156 - val_accuracy: 0.8278\n",
      "Epoch 2/3\n",
      "16/16 [==============================] - 98s 6s/step - loss: 0.3930 - accuracy: 0.8301 - val_loss: 0.3726 - val_accuracy: 0.8477\n",
      "Epoch 3/3\n",
      "16/16 [==============================] - 97s 6s/step - loss: 0.3528 - accuracy: 0.8438 - val_loss: 0.3218 - val_accuracy: 0.8709\n"
     ]
    },
    {
     "name": "stderr",
     "output_type": "stream",
     "text": [
      "\r\n",
      " 86%|███████████████████████████████████████████████████████████████████▋           | 24/28 [2:48:48<40:28, 607.08s/it]"
     ]
    },
    {
     "name": "stdout",
     "output_type": "stream",
     "text": [
      "Epoch 1/3\n",
      "16/16 [==============================] - 107s 7s/step - loss: 21.2931 - accuracy: 0.5938 - val_loss: 6.2706 - val_accuracy: 0.6589\n",
      "Epoch 2/3\n",
      "16/16 [==============================] - 100s 6s/step - loss: 12.7311 - accuracy: 0.5977 - val_loss: 8.6745 - val_accuracy: 0.6192\n",
      "Epoch 3/3\n",
      "16/16 [==============================] - 98s 6s/step - loss: 9.9344 - accuracy: 0.6309 - val_loss: 12.2098 - val_accuracy: 0.6093\n"
     ]
    },
    {
     "name": "stderr",
     "output_type": "stream",
     "text": [
      "\r\n",
      " 89%|██████████████████████████████████████████████████████████████████████▌        | 25/28 [2:53:55<25:51, 517.07s/it]"
     ]
    },
    {
     "name": "stdout",
     "output_type": "stream",
     "text": [
      "Epoch 1/3\n",
      "16/16 [==============================] - 399s 25s/step - loss: 1.1569 - accuracy: 0.6074 - val_loss: 0.7935 - val_accuracy: 0.6589\n",
      "Epoch 2/3\n",
      "16/16 [==============================] - 397s 25s/step - loss: 0.7523 - accuracy: 0.6934 - val_loss: 0.5570 - val_accuracy: 0.7483\n",
      "Epoch 3/3\n",
      "16/16 [==============================] - 395s 25s/step - loss: 0.5981 - accuracy: 0.7441 - val_loss: 0.4604 - val_accuracy: 0.8046\n"
     ]
    },
    {
     "name": "stderr",
     "output_type": "stream",
     "text": [
      "\r\n",
      " 93%|█████████████████████████████████████████████████████████████████████████▎     | 26/28 [3:13:48<23:59, 719.86s/it]"
     ]
    },
    {
     "name": "stdout",
     "output_type": "stream",
     "text": [
      "Epoch 1/3\n",
      "16/16 [==============================] - 473s 30s/step - loss: 0.8816 - accuracy: 0.6348 - val_loss: 0.5329 - val_accuracy: 0.7715\n",
      "Epoch 2/3\n",
      "16/16 [==============================] - 474s 30s/step - loss: 0.5047 - accuracy: 0.7734 - val_loss: 0.4181 - val_accuracy: 0.8444\n",
      "Epoch 3/3\n",
      "16/16 [==============================] - 471s 30s/step - loss: 0.4531 - accuracy: 0.8340 - val_loss: 0.3552 - val_accuracy: 0.8543\n"
     ]
    },
    {
     "name": "stderr",
     "output_type": "stream",
     "text": [
      "\r\n",
      " 96%|████████████████████████████████████████████████████████████████████████████▏  | 27/28 [3:37:27<15:29, 929.55s/it]"
     ]
    },
    {
     "name": "stdout",
     "output_type": "stream",
     "text": [
      "Epoch 1/3\n",
      "16/16 [==============================] - 79s 5s/step - loss: 11.4781 - accuracy: 0.6484 - val_loss: 8.9141 - val_accuracy: 0.6225\n",
      "Epoch 2/3\n",
      "16/16 [==============================] - 76s 5s/step - loss: 6.7654 - accuracy: 0.6602 - val_loss: 2.4702 - val_accuracy: 0.7517\n",
      "Epoch 3/3\n",
      "16/16 [==============================] - 75s 5s/step - loss: 6.2756 - accuracy: 0.6602 - val_loss: 3.0216 - val_accuracy: 0.7616\n"
     ]
    },
    {
     "name": "stderr",
     "output_type": "stream",
     "text": [
      "100%|███████████████████████████████████████████████████████████████████████████████| 28/28 [3:41:18<00:00, 474.24s/it]\n"
     ]
    }
   ],
   "source": [
    "# Loop over each model available in Keras\n",
    "model_benchmarks = {'model_name': [], 'num_model_params': [], 'validation_accuracy': []}\n",
    "\n",
    "num_classes = 2\n",
    "num_iterations = 16\n",
    "\n",
    "for model_name, model in tqdm(model_dictionary.items()):\n",
    "    # Special handling for \"NASNetLarge\" since it requires input images with size (331,331)\n",
    "    if 'NASNetLarge' in model_name:\n",
    "        input_shape=(331,331,3)\n",
    "        train_processed = train331\n",
    "        validation_processed = val331\n",
    "    else:\n",
    "        input_shape=(224,224,3)\n",
    "        train_processed = train224\n",
    "        validation_processed = val224\n",
    "        \n",
    "    # load the pre-trained model with global average pooling as the last layer and freeze the model weights\n",
    "    pre_trained_model = model(include_top=False, pooling='avg', input_shape=input_shape)\n",
    "    pre_trained_model.trainable = False\n",
    "    \n",
    "    # custom modifications on top of pre-trained model and fit\n",
    "    clf_model = tf.keras.models.Sequential()\n",
    "    clf_model.add(pre_trained_model)\n",
    "    clf_model.add(tf.keras.layers.Dense(num_classes, activation='softmax'))\n",
    "    clf_model.compile(loss='categorical_crossentropy', metrics=['accuracy'])\n",
    "    history = clf_model.fit(train_processed, epochs=3, validation_data=validation_processed, steps_per_epoch=num_iterations)\n",
    "    \n",
    "    # Calculate all relevant metrics\n",
    "    model_benchmarks['model_name'].append(model_name)\n",
    "    model_benchmarks['num_model_params'].append(pre_trained_model.count_params())\n",
    "    model_benchmarks['validation_accuracy'].append(history.history['val_accuracy'][-1])"
   ]
  },
  {
   "cell_type": "code",
   "execution_count": 20,
   "id": "db55ca5b",
   "metadata": {},
   "outputs": [
    {
     "data": {
      "text/html": [
       "<div>\n",
       "<style scoped>\n",
       "    .dataframe tbody tr th:only-of-type {\n",
       "        vertical-align: middle;\n",
       "    }\n",
       "\n",
       "    .dataframe tbody tr th {\n",
       "        vertical-align: top;\n",
       "    }\n",
       "\n",
       "    .dataframe thead th {\n",
       "        text-align: right;\n",
       "    }\n",
       "</style>\n",
       "<table border=\"1\" class=\"dataframe\">\n",
       "  <thead>\n",
       "    <tr style=\"text-align: right;\">\n",
       "      <th></th>\n",
       "      <th>model_name</th>\n",
       "      <th>num_model_params</th>\n",
       "      <th>validation_accuracy</th>\n",
       "    </tr>\n",
       "  </thead>\n",
       "  <tbody>\n",
       "    <tr>\n",
       "      <th>16</th>\n",
       "      <td>MobileNetV3Small</td>\n",
       "      <td>1529968</td>\n",
       "      <td>0.860927</td>\n",
       "    </tr>\n",
       "    <tr>\n",
       "      <th>14</th>\n",
       "      <td>MobileNetV2</td>\n",
       "      <td>2257984</td>\n",
       "      <td>0.831126</td>\n",
       "    </tr>\n",
       "    <tr>\n",
       "      <th>13</th>\n",
       "      <td>MobileNet</td>\n",
       "      <td>3228864</td>\n",
       "      <td>0.788079</td>\n",
       "    </tr>\n",
       "    <tr>\n",
       "      <th>3</th>\n",
       "      <td>EfficientNetB0</td>\n",
       "      <td>4049571</td>\n",
       "      <td>0.837748</td>\n",
       "    </tr>\n",
       "    <tr>\n",
       "      <th>15</th>\n",
       "      <td>MobileNetV3Large</td>\n",
       "      <td>4226432</td>\n",
       "      <td>0.894040</td>\n",
       "    </tr>\n",
       "    <tr>\n",
       "      <th>18</th>\n",
       "      <td>NASNetMobile</td>\n",
       "      <td>4269716</td>\n",
       "      <td>0.721854</td>\n",
       "    </tr>\n",
       "    <tr>\n",
       "      <th>4</th>\n",
       "      <td>EfficientNetB1</td>\n",
       "      <td>6575239</td>\n",
       "      <td>0.864238</td>\n",
       "    </tr>\n",
       "    <tr>\n",
       "      <th>0</th>\n",
       "      <td>DenseNet121</td>\n",
       "      <td>7037504</td>\n",
       "      <td>0.708609</td>\n",
       "    </tr>\n",
       "    <tr>\n",
       "      <th>5</th>\n",
       "      <td>EfficientNetB2</td>\n",
       "      <td>7768569</td>\n",
       "      <td>0.850993</td>\n",
       "    </tr>\n",
       "    <tr>\n",
       "      <th>6</th>\n",
       "      <td>EfficientNetB3</td>\n",
       "      <td>10783535</td>\n",
       "      <td>0.831126</td>\n",
       "    </tr>\n",
       "    <tr>\n",
       "      <th>1</th>\n",
       "      <td>DenseNet169</td>\n",
       "      <td>12642880</td>\n",
       "      <td>0.665563</td>\n",
       "    </tr>\n",
       "    <tr>\n",
       "      <th>25</th>\n",
       "      <td>VGG16</td>\n",
       "      <td>14714688</td>\n",
       "      <td>0.804636</td>\n",
       "    </tr>\n",
       "    <tr>\n",
       "      <th>7</th>\n",
       "      <td>EfficientNetB4</td>\n",
       "      <td>17673823</td>\n",
       "      <td>0.831126</td>\n",
       "    </tr>\n",
       "    <tr>\n",
       "      <th>2</th>\n",
       "      <td>DenseNet201</td>\n",
       "      <td>18321984</td>\n",
       "      <td>0.619205</td>\n",
       "    </tr>\n",
       "    <tr>\n",
       "      <th>26</th>\n",
       "      <td>VGG19</td>\n",
       "      <td>20024384</td>\n",
       "      <td>0.854305</td>\n",
       "    </tr>\n",
       "    <tr>\n",
       "      <th>27</th>\n",
       "      <td>Xception</td>\n",
       "      <td>20861480</td>\n",
       "      <td>0.761589</td>\n",
       "    </tr>\n",
       "    <tr>\n",
       "      <th>12</th>\n",
       "      <td>InceptionV3</td>\n",
       "      <td>21802784</td>\n",
       "      <td>0.774834</td>\n",
       "    </tr>\n",
       "    <tr>\n",
       "      <th>24</th>\n",
       "      <td>ResNet50V2</td>\n",
       "      <td>23564800</td>\n",
       "      <td>0.609272</td>\n",
       "    </tr>\n",
       "    <tr>\n",
       "      <th>23</th>\n",
       "      <td>ResNet50</td>\n",
       "      <td>23587712</td>\n",
       "      <td>0.870861</td>\n",
       "    </tr>\n",
       "    <tr>\n",
       "      <th>8</th>\n",
       "      <td>EfficientNetB5</td>\n",
       "      <td>28513527</td>\n",
       "      <td>0.854305</td>\n",
       "    </tr>\n",
       "    <tr>\n",
       "      <th>9</th>\n",
       "      <td>EfficientNetB6</td>\n",
       "      <td>40960143</td>\n",
       "      <td>0.814570</td>\n",
       "    </tr>\n",
       "    <tr>\n",
       "      <th>20</th>\n",
       "      <td>ResNet101V2</td>\n",
       "      <td>42626560</td>\n",
       "      <td>0.390728</td>\n",
       "    </tr>\n",
       "    <tr>\n",
       "      <th>19</th>\n",
       "      <td>ResNet101</td>\n",
       "      <td>42658176</td>\n",
       "      <td>0.860927</td>\n",
       "    </tr>\n",
       "    <tr>\n",
       "      <th>11</th>\n",
       "      <td>InceptionResNetV2</td>\n",
       "      <td>54336736</td>\n",
       "      <td>0.622517</td>\n",
       "    </tr>\n",
       "    <tr>\n",
       "      <th>22</th>\n",
       "      <td>ResNet152V2</td>\n",
       "      <td>58331648</td>\n",
       "      <td>0.735099</td>\n",
       "    </tr>\n",
       "    <tr>\n",
       "      <th>21</th>\n",
       "      <td>ResNet152</td>\n",
       "      <td>58370944</td>\n",
       "      <td>0.907285</td>\n",
       "    </tr>\n",
       "    <tr>\n",
       "      <th>10</th>\n",
       "      <td>EfficientNetB7</td>\n",
       "      <td>64097687</td>\n",
       "      <td>0.821192</td>\n",
       "    </tr>\n",
       "    <tr>\n",
       "      <th>17</th>\n",
       "      <td>NASNetLarge</td>\n",
       "      <td>84916818</td>\n",
       "      <td>0.751656</td>\n",
       "    </tr>\n",
       "  </tbody>\n",
       "</table>\n",
       "</div>"
      ],
      "text/plain": [
       "           model_name  num_model_params  validation_accuracy\n",
       "16   MobileNetV3Small           1529968             0.860927\n",
       "14        MobileNetV2           2257984             0.831126\n",
       "13          MobileNet           3228864             0.788079\n",
       "3      EfficientNetB0           4049571             0.837748\n",
       "15   MobileNetV3Large           4226432             0.894040\n",
       "18       NASNetMobile           4269716             0.721854\n",
       "4      EfficientNetB1           6575239             0.864238\n",
       "0         DenseNet121           7037504             0.708609\n",
       "5      EfficientNetB2           7768569             0.850993\n",
       "6      EfficientNetB3          10783535             0.831126\n",
       "1         DenseNet169          12642880             0.665563\n",
       "25              VGG16          14714688             0.804636\n",
       "7      EfficientNetB4          17673823             0.831126\n",
       "2         DenseNet201          18321984             0.619205\n",
       "26              VGG19          20024384             0.854305\n",
       "27           Xception          20861480             0.761589\n",
       "12        InceptionV3          21802784             0.774834\n",
       "24         ResNet50V2          23564800             0.609272\n",
       "23           ResNet50          23587712             0.870861\n",
       "8      EfficientNetB5          28513527             0.854305\n",
       "9      EfficientNetB6          40960143             0.814570\n",
       "20        ResNet101V2          42626560             0.390728\n",
       "19          ResNet101          42658176             0.860927\n",
       "11  InceptionResNetV2          54336736             0.622517\n",
       "22        ResNet152V2          58331648             0.735099\n",
       "21          ResNet152          58370944             0.907285\n",
       "10     EfficientNetB7          64097687             0.821192\n",
       "17        NASNetLarge          84916818             0.751656"
      ]
     },
     "execution_count": 20,
     "metadata": {},
     "output_type": "execute_result"
    }
   ],
   "source": [
    "# Convert Results to DataFrame for easy viewing\n",
    "benchmark_df = pd.DataFrame(model_benchmarks)\n",
    "\n",
    "# sort in ascending order of num_model_params column\n",
    "benchmark_df.sort_values('num_model_params', inplace=True)\n",
    "\n",
    "# write results to csv file\n",
    "benchmark_df.to_csv('benchmark_infrared2.csv', index=False)\n",
    "benchmark_df"
   ]
  },
  {
   "cell_type": "markdown",
   "id": "829d46d0",
   "metadata": {},
   "source": [
    "## graphical comparison of CNN's "
   ]
  },
  {
   "cell_type": "code",
   "execution_count": 25,
   "id": "79459c5b",
   "metadata": {},
   "outputs": [
    {
     "data": {
      "image/png": "[encoded data removed]",
      "text/plain": [
       "<Figure size 504x360 with 1 Axes>"
      ]
     },
     "metadata": {
      "needs_background": "light"
     },
     "output_type": "display_data"
    }
   ],
   "source": [
    "# Loop over each row and plot the num_model_params vs validation_accuracy\n",
    "markers=[\".\",\",\",\"o\",\"v\",\"^\",\"<\",\">\",\"1\",\"2\",\"3\",\"4\",\"8\",\"s\",\"p\",\"P\",\"*\",\"h\",\"H\",\"+\",\"x\",\"X\",\"D\",\"d\",\"|\",\"_\",4,5,6,7,8,9,10,11]\n",
    "plt.figure(figsize=(7,5))\n",
    "\n",
    "for row in benchmark_df.itertuples():\n",
    "    plt.scatter(row.num_model_params, row.validation_accuracy, label=row.model_name, marker=markers[row.Index], s=150, linewidths=2)\n",
    "    \n",
    "plt.xscale('log')\n",
    "plt.xlabel('Number of Parameters in Model')\n",
    "plt.ylabel('Validation Accuracy after 3 Epochs')\n",
    "plt.title('Accuracy vs Model Size')\n",
    "\n",
    "# Move legend out of the plot\n",
    "plt.legend(bbox_to_anchor=(1, 1), loc='upper left');"
   ]
  }
 ],
 "metadata": {
  "hide_input": false,
  "kernelspec": {
   "display_name": "Python 3",
   "language": "python",
   "name": "python3"
  },
  "language_info": {
   "codemirror_mode": {
    "name": "ipython",
    "version": 3
   },
   "file_extension": ".py",
   "mimetype": "text/x-python",
   "name": "python",
   "nbconvert_exporter": "python",
   "pygments_lexer": "ipython3",
   "version": "3.8.5"
  },
  "nbTranslate": {
   "displayLangs": [
    "*"
   ],
   "hotkey": "alt-t",
   "langInMainMenu": true,
   "sourceLang": "en",
   "targetLang": "fr",
   "useGoogleTranslate": true
  },
  "toc": {
   "base_numbering": 1,
   "nav_menu": {},
   "number_sections": true,
   "sideBar": true,
   "skip_h1_title": false,
   "title_cell": "Table of Contents",
   "title_sidebar": "Contents",
   "toc_cell": false,
   "toc_position": {},
   "toc_section_display": true,
   "toc_window_display": false
  }
 },
 "nbformat": 4,
 "nbformat_minor": 5
}
